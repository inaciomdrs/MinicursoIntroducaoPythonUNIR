{
 "cells": [
  {
   "cell_type": "markdown",
   "id": "46f5b048-67c2-46d8-a7ee-bb584bba4f0d",
   "metadata": {},
   "source": [
    "# Parte 05 - Análise de Dados e Machine Learning\n",
    "\n",
    "- Pandas\n",
    "    - Lendo arquivos CSV\n",
    "    - Explorando Series e DataFrame\n",
    "    - Analisando e Sumarizando dados\n",
    "- Matplotlib e Seaborn\n",
    "    - Geração de gráficos\n",
    "- Scikit-Learn\n",
    "    - Classificação de dados"
   ]
  },
  {
   "cell_type": "code",
   "execution_count": null,
   "id": "c7124d29-d140-46ab-8d25-e5b2cb7baf21",
   "metadata": {},
   "outputs": [],
   "source": [
    "!pip install pandas\n",
    "!pip install scikit_learn\n",
    "!pip install seaborn"
   ]
  },
  {
   "cell_type": "code",
   "execution_count": null,
   "id": "5ac1bba3-cbc6-4ead-8ef8-ef0685626fa0",
   "metadata": {},
   "outputs": [],
   "source": []
  },
  {
   "cell_type": "code",
   "execution_count": null,
   "id": "72ca0f92-1ad4-4506-956c-74a23ae5cdb5",
   "metadata": {},
   "outputs": [],
   "source": []
  },
  {
   "cell_type": "code",
   "execution_count": null,
   "id": "9682eb0c-a769-4959-96a1-ed1193a26fea",
   "metadata": {},
   "outputs": [],
   "source": []
  },
  {
   "cell_type": "code",
   "execution_count": null,
   "id": "f95cd2a2-40b2-4809-b434-198f66dd965e",
   "metadata": {},
   "outputs": [],
   "source": []
  },
  {
   "cell_type": "code",
   "execution_count": null,
   "id": "a97ebc40-4251-4a26-9230-cbe2084b4234",
   "metadata": {},
   "outputs": [],
   "source": []
  },
  {
   "cell_type": "code",
   "execution_count": null,
   "id": "d806cc8e-4d08-43d0-9ea9-cfaaf97870c1",
   "metadata": {},
   "outputs": [],
   "source": []
  },
  {
   "cell_type": "code",
   "execution_count": null,
   "id": "2db8a7d8-1d2e-4e64-9ed5-96eb60ba36b3",
   "metadata": {},
   "outputs": [],
   "source": []
  },
  {
   "cell_type": "code",
   "execution_count": null,
   "id": "8faa0858-f06c-40a1-876b-0c4790197876",
   "metadata": {},
   "outputs": [],
   "source": []
  },
  {
   "cell_type": "code",
   "execution_count": null,
   "id": "164fd071-4478-41fc-8811-40190f2cc4e1",
   "metadata": {},
   "outputs": [],
   "source": []
  }
 ],
 "metadata": {
  "kernelspec": {
   "display_name": "Python 3 (ipykernel)",
   "language": "python",
   "name": "python3"
  },
  "language_info": {
   "codemirror_mode": {
    "name": "ipython",
    "version": 3
   },
   "file_extension": ".py",
   "mimetype": "text/x-python",
   "name": "python",
   "nbconvert_exporter": "python",
   "pygments_lexer": "ipython3",
   "version": "3.9.0"
  }
 },
 "nbformat": 4,
 "nbformat_minor": 5
}
