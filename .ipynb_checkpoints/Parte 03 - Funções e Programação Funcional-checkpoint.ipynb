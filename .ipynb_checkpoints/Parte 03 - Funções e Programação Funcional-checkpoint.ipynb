{
 "cells": [
  {
   "cell_type": "markdown",
   "id": "0e37cf6e-7fcb-4337-bcc0-65057e2333b4",
   "metadata": {},
   "source": [
    "# Parte 03 - Funções e Programação Funcional\n",
    "\n",
    "- Como funções deixam o código organizado"
   ]
  },
  {
   "cell_type": "markdown",
   "id": "b4d155b8-abba-4685-bd20-08b9ef48cc63",
   "metadata": {},
   "source": [
    "## Valendo"
   ]
  },
  {
   "cell_type": "code",
   "execution_count": null,
   "id": "1c6229b4-ddaf-4104-812d-d662964803ed",
   "metadata": {},
   "outputs": [],
   "source": []
  },
  {
   "cell_type": "code",
   "execution_count": null,
   "id": "393bf901-83f4-491f-a8ac-594fd662e496",
   "metadata": {},
   "outputs": [],
   "source": []
  },
  {
   "cell_type": "code",
   "execution_count": null,
   "id": "819d9ba4-7622-4aa4-901b-43fa6d0a0a63",
   "metadata": {},
   "outputs": [],
   "source": []
  },
  {
   "cell_type": "markdown",
   "id": "f5c62b90-69cc-41a4-b07f-cb7db1d27e3e",
   "metadata": {},
   "source": [
    "## Recursão\n",
    "\n",
    "Exemplo: Sequência de Fibonacci\n",
    "\n",
    "- $F_0 = 0$\n",
    "- $F_1 = 1$\n",
    "- $F_n = F_{n-1} + F_{n-2}$\n",
    "\n",
    "0, 1, 1, 2, 3, 5, 8, 13, 21, 34, 55, 89, 144, ..."
   ]
  },
  {
   "cell_type": "code",
   "execution_count": null,
   "id": "6c62dabc-7370-4257-a417-6d462068862b",
   "metadata": {},
   "outputs": [],
   "source": []
  },
  {
   "cell_type": "code",
   "execution_count": null,
   "id": "83cf2c9f-e20a-4f5a-aef9-ccca78d04bba",
   "metadata": {},
   "outputs": [],
   "source": []
  },
  {
   "cell_type": "code",
   "execution_count": null,
   "id": "f0ea264e-5ca7-470e-a3de-eb625e37b4fc",
   "metadata": {},
   "outputs": [],
   "source": []
  },
  {
   "cell_type": "markdown",
   "id": "3123fb85-9a89-42d2-807f-15a9b30eebab",
   "metadata": {},
   "source": [
    "## Programação funcional\n",
    "\n",
    "- Imutabilidade\n",
    "- Funções puras\n",
    "- Funções de alta ordem\n",
    "- Decoradores"
   ]
  },
  {
   "cell_type": "markdown",
   "id": "9cd1dda7-7bf8-4a9b-9a31-6eb342274246",
   "metadata": {},
   "source": [
    "- functools\n",
    "    - map\n",
    "    - reduce"
   ]
  },
  {
   "cell_type": "code",
   "execution_count": null,
   "id": "d4dea920-9614-4a79-8e99-926c0b3d6795",
   "metadata": {},
   "outputs": [],
   "source": []
  },
  {
   "cell_type": "code",
   "execution_count": null,
   "id": "3d15fe7d-9455-4877-98f9-3d93a5b51438",
   "metadata": {},
   "outputs": [],
   "source": []
  },
  {
   "cell_type": "code",
   "execution_count": null,
   "id": "9c16c902-cfa0-48ea-bdc8-f735ffc6bdd3",
   "metadata": {},
   "outputs": [],
   "source": []
  },
  {
   "cell_type": "markdown",
   "id": "25a14332-e7bc-4aeb-a77b-2eaa6c475a9c",
   "metadata": {
    "tags": []
   },
   "source": [
    "## Exercício\n",
    "\n",
    "- Coloque os códigos do exercício da conta do rolê em uma função e reescreva o script utilizando esta função"
   ]
  },
  {
   "cell_type": "markdown",
   "id": "013ca2df-60a1-4337-bed9-3aecbf57adf8",
   "metadata": {},
   "source": [
    "### Mini-Projeto - Cifra de César"
   ]
  },
  {
   "cell_type": "markdown",
   "id": "aae641f1-dfb4-4f3e-ad35-8d8046561e69",
   "metadata": {},
   "source": [
    "#### Description\n",
    "- A cifra de César é uma cifra de substituição simples, que é limitada pelo simples deslocamento de caracteres em uma quantidade fixa.\n",
    "- Um exemplo\n",
    "    - Imagine que você recebeu a mensagem: BRX DUH DZHVRPH. Ela não quer dizer nada, certo?.\n",
    "    - Mas se a gente jogar ela no diagrama abaixo, veja o que acontece:\n",
    "    \n",
    "![Caesar Cipher](img/CaesarCipher.png)"
   ]
  },
  {
   "cell_type": "markdown",
   "id": "1b1d18cb-03b6-41f4-8de5-b719c478ab0b",
   "metadata": {},
   "source": [
    "#### O Projeto\n",
    "- Implemente a função **encrypt_char(char, key)** to encriptar um único caractere, **char**, with **key**.\n",
    "    - Pode ser útil utilizar **ord()**, **chr()** e **%**.\n",
    "    - O cálculo pode ser um pouco traiçoeiro.\n",
    "- Implemente a função **encrypt_message(message, key)**, para encriptar uma mensagem inteira.\n",
    "- Implemente uma função similar, agora para desencriptar."
   ]
  },
  {
   "cell_type": "code",
   "execution_count": null,
   "id": "4aecc2cf-a75e-4252-87ab-5b78b87426a1",
   "metadata": {},
   "outputs": [],
   "source": []
  },
  {
   "cell_type": "code",
   "execution_count": null,
   "id": "2242ea53-1b4f-42e7-b0d0-6dcc2ea4729c",
   "metadata": {},
   "outputs": [],
   "source": []
  },
  {
   "cell_type": "code",
   "execution_count": null,
   "id": "776260ff-3c43-46de-99ae-5b8de67921d8",
   "metadata": {},
   "outputs": [],
   "source": []
  },
  {
   "cell_type": "code",
   "execution_count": null,
   "id": "f61b8c40-a5da-463e-871f-92f9fb7a3f5f",
   "metadata": {},
   "outputs": [],
   "source": []
  }
 ],
 "metadata": {
  "kernelspec": {
   "display_name": "Python 3 (ipykernel)",
   "language": "python",
   "name": "python3"
  },
  "language_info": {
   "codemirror_mode": {
    "name": "ipython",
    "version": 3
   },
   "file_extension": ".py",
   "mimetype": "text/x-python",
   "name": "python",
   "nbconvert_exporter": "python",
   "pygments_lexer": "ipython3",
   "version": "3.9.0"
  }
 },
 "nbformat": 4,
 "nbformat_minor": 5
}
