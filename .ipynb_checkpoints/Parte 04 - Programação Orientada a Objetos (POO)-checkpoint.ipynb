{
 "cells": [
  {
   "cell_type": "markdown",
   "id": "070b4e06-75f7-4bb5-920b-49964a422790",
   "metadata": {},
   "source": [
    "# Parte 04 - Programação Orientada a Objetos (POO)\n",
    "\n",
    "- Em sua essência, a programação orientada a objetos ajuda você a estruturar seu programa para se assemelhar à realidade.\n",
    "- Ou seja, você declara objetos com parâmetros e métodos (funções) que você precisa neles."
   ]
  },
  {
   "cell_type": "markdown",
   "id": "a646dde3-7def-4fa4-8180-7adced61bb8f",
   "metadata": {},
   "source": [
    "## Valendo\n",
    "\n",
    "- Classes e Objetos\n",
    "    - Atributos\n",
    "    - Métodos (Funções)\n",
    "    - Visibilidade\n",
    "- Herança\n",
    "- Polimorfismo"
   ]
  },
  {
   "cell_type": "code",
   "execution_count": null,
   "id": "2ddf3b02-97fa-4ea4-8125-a1eb4b45f065",
   "metadata": {},
   "outputs": [],
   "source": []
  },
  {
   "cell_type": "code",
   "execution_count": null,
   "id": "754bf466-46d7-4e72-88d8-170260ea9174",
   "metadata": {},
   "outputs": [],
   "source": []
  },
  {
   "cell_type": "markdown",
   "id": "82560691-5555-417b-8067-ff7e68fdc413",
   "metadata": {},
   "source": [
    "- Exemplo que vamos utilizar: Blockchain\n",
    "- Fonte da figura: https://www.reddit.com/r/coolguides/comments/gaijbq/how_blockchain_works/\n",
    "\n",
    "![Blockchain](https://i.redd.it/wf8dxc51vtv41.jpg)"
   ]
  },
  {
   "cell_type": "markdown",
   "id": "f5c291b3-527e-4e91-9225-2068c2a4a2b4",
   "metadata": {},
   "source": [
    "## Diagrama de Classes"
   ]
  },
  {
   "cell_type": "markdown",
   "id": "c1b3c4ac-ad09-4760-95ad-0b21e20e2546",
   "metadata": {},
   "source": [
    "![Class diagram](img/diagrama_de_classes.png)"
   ]
  },
  {
   "cell_type": "code",
   "execution_count": null,
   "id": "9270d7cc-eb27-413f-a38a-8f9cb0ca1a15",
   "metadata": {},
   "outputs": [],
   "source": []
  },
  {
   "cell_type": "code",
   "execution_count": null,
   "id": "cc411007-5017-4037-995b-be4a7e23a0bb",
   "metadata": {},
   "outputs": [],
   "source": []
  },
  {
   "cell_type": "code",
   "execution_count": null,
   "id": "4430984a-ed9f-4db5-9130-995230b093f5",
   "metadata": {},
   "outputs": [],
   "source": []
  },
  {
   "cell_type": "code",
   "execution_count": null,
   "id": "cb3cfdef-3b64-4603-8602-83891dd2127d",
   "metadata": {},
   "outputs": [],
   "source": []
  },
  {
   "cell_type": "code",
   "execution_count": null,
   "id": "36795d92-d605-4069-bdc6-1c8b84660f32",
   "metadata": {},
   "outputs": [],
   "source": []
  }
 ],
 "metadata": {
  "kernelspec": {
   "display_name": "Python 3 (ipykernel)",
   "language": "python",
   "name": "python3"
  },
  "language_info": {
   "codemirror_mode": {
    "name": "ipython",
    "version": 3
   },
   "file_extension": ".py",
   "mimetype": "text/x-python",
   "name": "python",
   "nbconvert_exporter": "python",
   "pygments_lexer": "ipython3",
   "version": "3.9.0"
  }
 },
 "nbformat": 4,
 "nbformat_minor": 5
}
