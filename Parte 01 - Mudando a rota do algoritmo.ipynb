{
 "cells": [
  {
   "cell_type": "markdown",
   "id": "09e013a6-6d9d-4c1b-9cfb-ae4b9c9011d0",
   "metadata": {},
   "source": [
    "# Parte 1 - Mudando a rota do algoritmo"
   ]
  },
  {
   "cell_type": "markdown",
   "id": "50dce084-fff4-4699-999f-19bc44655e75",
   "metadata": {},
   "source": [
    " - Eu tinha preconceito com trading até ver [este vídeo](https://www.youtube.com/watch?v=5RI5VaN35b4).\n",
    " - Foto auxiliar meramente ilustrativa para esta parte do curso"
   ]
  },
  {
   "cell_type": "markdown",
   "id": "c47bc168-7227-4be7-a4bc-f4cdf1669653",
   "metadata": {},
   "source": [
    "![alt text](https://forextraininggroup.com/wp-content/uploads/2016/05/Moving-Average-Crossover-1024x460.png \"Title\")"
   ]
  },
  {
   "cell_type": "markdown",
   "id": "66e6280d-382f-45e1-8bfe-37f2e2e1eb79",
   "metadata": {},
   "source": [
    "## Valendo\n",
    "\n",
    "### Operações de comparação\n",
    "\n",
    "- Igual a: a == b\n",
    "- Diferente de: a != b\n",
    "- Menor que: a < b\n",
    "- Menor ou igual a: a <= b\n",
    "- Maior que: a > b\n",
    "- Maior ou igual a: a >= b\n",
    "\n",
    "### Operações booleanas\n",
    "\n",
    "- E: a **and** b\n",
    "- OU: a **or** b\n",
    "- NÃO: **not**"
   ]
  },
  {
   "cell_type": "code",
   "execution_count": null,
   "id": "45f153d5-b7c3-40b9-98bc-534551c748b2",
   "metadata": {},
   "outputs": [],
   "source": []
  },
  {
   "cell_type": "code",
   "execution_count": null,
   "id": "e8d7efa8-9493-408f-94c0-5d456f3a2502",
   "metadata": {},
   "outputs": [],
   "source": []
  },
  {
   "cell_type": "code",
   "execution_count": null,
   "id": "88f01f2a-cc54-428c-aed8-e72d8a68b878",
   "metadata": {},
   "outputs": [],
   "source": []
  },
  {
   "cell_type": "code",
   "execution_count": null,
   "id": "027eecae-0d03-4821-9d90-3f3f62e68963",
   "metadata": {},
   "outputs": [],
   "source": []
  },
  {
   "cell_type": "markdown",
   "id": "3fc11bb1-b5df-4719-b5d0-ef85822ecadf",
   "metadata": {},
   "source": [
    "## Exercício 1\n",
    "\n",
    "- Crie uma estratégia de trading que se utilize de **duas** médias móveis "
   ]
  },
  {
   "cell_type": "markdown",
   "id": "73790f44-0c4f-4465-9a30-3d5a281a6b72",
   "metadata": {},
   "source": []
  },
  {
   "cell_type": "code",
   "execution_count": null,
   "id": "fa334c4f-cb07-461f-9789-7010d95d7531",
   "metadata": {},
   "outputs": [],
   "source": []
  },
  {
   "cell_type": "code",
   "execution_count": null,
   "id": "7a0410d1-e56e-4dee-894e-b18296f9566a",
   "metadata": {},
   "outputs": [],
   "source": []
  },
  {
   "cell_type": "markdown",
   "id": "c9bde33d-ef52-4ec6-af8d-175a87fd575d",
   "metadata": {},
   "source": [
    "## Exercício 2\n",
    "### Seguro de carro\n",
    "\n",
    "- Imagine que uma amiga sua tenha uma seguradora de veículos\n",
    "- Ela quer que você crie um programa para cálculo do seguro\n",
    "- O valor do seguro será uma percentagem do valor do carro que a pessoa tem\n",
    "- A regra para calcula esta percentagem é dada pela figura abaixo"
   ]
  },
  {
   "cell_type": "markdown",
   "id": "994cbdef-a829-41ae-9b09-1de08664de1b",
   "metadata": {},
   "source": [
    "![alt text](img/DecisionTree.png \"Title\")"
   ]
  },
  {
   "cell_type": "markdown",
   "id": "8e2f2bc3-6446-4cb3-bd36-6b85ba7210f6",
   "metadata": {},
   "source": [
    "### A tarefa\n",
    "- Implementar um script que faça esse cálculo\n",
    "- O script recebe como entrada o valor do veículo e as informações das regras acima\n",
    "- O script devolve como saída o valor do seguro"
   ]
  },
  {
   "cell_type": "code",
   "execution_count": null,
   "id": "c020fc22-95c7-4db2-8711-f5da9aa2d788",
   "metadata": {},
   "outputs": [],
   "source": []
  },
  {
   "cell_type": "code",
   "execution_count": null,
   "id": "dfa92473-b2fc-4e6c-b44d-deb3e53234ba",
   "metadata": {},
   "outputs": [],
   "source": []
  },
  {
   "cell_type": "code",
   "execution_count": null,
   "id": "1acdafc6-d89f-4005-9515-8cec648d9e49",
   "metadata": {},
   "outputs": [],
   "source": []
  },
  {
   "cell_type": "code",
   "execution_count": null,
   "id": "53d6f351-c898-4072-b9a7-73d90f87eabb",
   "metadata": {},
   "outputs": [],
   "source": []
  },
  {
   "cell_type": "code",
   "execution_count": null,
   "id": "97f0fca0-3e28-45c8-bdaa-8fbed49e6e88",
   "metadata": {},
   "outputs": [],
   "source": []
  },
  {
   "cell_type": "markdown",
   "id": "c6e33b86-d6c5-4ca7-bfb9-ebadaa51d26e",
   "metadata": {},
   "source": [
    "## Exercício 3\n",
    "\n",
    "Crie sua própria árvore de regras para o cálculo do seguro e implemente um script que faça este cálculo."
   ]
  },
  {
   "cell_type": "code",
   "execution_count": null,
   "id": "926abdc8-65b6-4d20-ac1b-3726c4e64e3e",
   "metadata": {},
   "outputs": [],
   "source": []
  },
  {
   "cell_type": "code",
   "execution_count": null,
   "id": "f75b4d8d-e521-4979-b9f1-9f5d1f882778",
   "metadata": {},
   "outputs": [],
   "source": []
  },
  {
   "cell_type": "code",
   "execution_count": null,
   "id": "224e5445-a4bb-467f-a073-59da4ea52649",
   "metadata": {},
   "outputs": [],
   "source": []
  },
  {
   "cell_type": "code",
   "execution_count": null,
   "id": "de526496-8edd-44a9-bfa8-049f4acd18c2",
   "metadata": {},
   "outputs": [],
   "source": []
  }
 ],
 "metadata": {
  "kernelspec": {
   "display_name": "Python 3 (ipykernel)",
   "language": "python",
   "name": "python3"
  },
  "language_info": {
   "codemirror_mode": {
    "name": "ipython",
    "version": 3
   },
   "file_extension": ".py",
   "mimetype": "text/x-python",
   "name": "python",
   "nbconvert_exporter": "python",
   "pygments_lexer": "ipython3",
   "version": "3.9.0"
  }
 },
 "nbformat": 4,
 "nbformat_minor": 5
}
