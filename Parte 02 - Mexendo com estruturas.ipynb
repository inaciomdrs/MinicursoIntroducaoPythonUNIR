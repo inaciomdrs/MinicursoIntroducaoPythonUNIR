{
 "cells": [
  {
   "cell_type": "markdown",
   "id": "a0409c27-75c6-40da-a1a7-0c651b7d9bc8",
   "metadata": {},
   "source": [
    "# Parte 02 - Mexendo com estruturas de dados\n",
    "\n",
    "- **Listas** e **Dicionários**"
   ]
  },
  {
   "cell_type": "code",
   "execution_count": null,
   "id": "dd02f6aa-aa4d-422c-8b0f-784889eda803",
   "metadata": {},
   "outputs": [],
   "source": []
  },
  {
   "cell_type": "code",
   "execution_count": null,
   "id": "9b80f61a-442b-4d9a-987e-b48e8dd3202c",
   "metadata": {},
   "outputs": [],
   "source": []
  },
  {
   "cell_type": "code",
   "execution_count": null,
   "id": "02666d9f-2479-4982-9f1e-1f3955ad1e52",
   "metadata": {},
   "outputs": [],
   "source": []
  },
  {
   "cell_type": "markdown",
   "id": "01d1e168-86dc-45df-85f9-bfbea4874667",
   "metadata": {},
   "source": [
    "## Brincando com aleatoriedade\n",
    "\n",
    "- Entendendo importações\n",
    "- Funções **choice** e **shuffle**"
   ]
  },
  {
   "cell_type": "code",
   "execution_count": null,
   "id": "7043f19e-1b50-43e7-af3e-707d67ceb296",
   "metadata": {},
   "outputs": [],
   "source": []
  },
  {
   "cell_type": "code",
   "execution_count": null,
   "id": "55354e27-dd58-4b26-b0f6-3810ae78b2c3",
   "metadata": {},
   "outputs": [],
   "source": []
  },
  {
   "cell_type": "code",
   "execution_count": null,
   "id": "b690e30f-4497-494f-986e-43c759402a37",
   "metadata": {},
   "outputs": [],
   "source": []
  },
  {
   "cell_type": "markdown",
   "id": "2cebf70b-c901-4430-9c24-f5d0e3d674d6",
   "metadata": {},
   "source": [
    "## Percorrendo Estruturas de Dados com **Loops**\n",
    "\n",
    "- Loops\n",
    "    - **for**\n",
    "    - **while**"
   ]
  },
  {
   "cell_type": "code",
   "execution_count": null,
   "id": "55e1c896-c063-4ee3-b5cb-917be8e90678",
   "metadata": {},
   "outputs": [],
   "source": []
  },
  {
   "cell_type": "code",
   "execution_count": null,
   "id": "808bd8d0-042a-451d-b2a7-0836b5a421f3",
   "metadata": {},
   "outputs": [],
   "source": []
  },
  {
   "cell_type": "code",
   "execution_count": null,
   "id": "0162a062-79bf-4a50-a473-aff3762fb00a",
   "metadata": {},
   "outputs": [],
   "source": []
  },
  {
   "cell_type": "code",
   "execution_count": null,
   "id": "fed54b66-0048-4c10-828d-763edc86cbd8",
   "metadata": {},
   "outputs": [],
   "source": []
  },
  {
   "cell_type": "markdown",
   "id": "93e7a567-d7ed-452d-b4a0-d71f3f686edd",
   "metadata": {},
   "source": [
    "## Exercício 1\n",
    "\n",
    "- Se lembra do exercício da divisão da conta rolê? Vamos refazê-lo da seguinte forma\n",
    "    - **Modo 1**: refaça os cálculos utilizando listas\n",
    "    - **Modo 2**: Use dicionários para:\n",
    "        - Agrupar as contas por pessoa\n",
    "        - Imprimir o nome de cada pessoa e quanto é a conta dela"
   ]
  },
  {
   "cell_type": "code",
   "execution_count": null,
   "id": "903fe535-2428-43a8-858a-350f1d762639",
   "metadata": {},
   "outputs": [],
   "source": []
  },
  {
   "cell_type": "code",
   "execution_count": null,
   "id": "5836a492-3a88-49af-b376-90f9af6a7066",
   "metadata": {},
   "outputs": [],
   "source": []
  },
  {
   "cell_type": "code",
   "execution_count": null,
   "id": "c10ca33b-0141-4472-a792-8aa206ad5336",
   "metadata": {},
   "outputs": [],
   "source": []
  }
 ],
 "metadata": {
  "kernelspec": {
   "display_name": "Python 3 (ipykernel)",
   "language": "python",
   "name": "python3"
  },
  "language_info": {
   "codemirror_mode": {
    "name": "ipython",
    "version": 3
   },
   "file_extension": ".py",
   "mimetype": "text/x-python",
   "name": "python",
   "nbconvert_exporter": "python",
   "pygments_lexer": "ipython3",
   "version": "3.9.0"
  }
 },
 "nbformat": 4,
 "nbformat_minor": 5
}
