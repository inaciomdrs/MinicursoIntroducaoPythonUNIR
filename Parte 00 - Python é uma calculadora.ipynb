{
 "cells": [
  {
   "cell_type": "markdown",
   "id": "2df7fb16-07f1-4539-980b-e52c98cd5bd1",
   "metadata": {},
   "source": [
    "# Parte 0 - Python é uma calculadora\n",
    "\n",
    "- Zen do Python\n",
    "    - O [Original](https://en.wikipedia.org/wiki/Zen_of_Python)\n",
    "    - O [Melhor](https://github.com/luanfonceca/oxente) "
   ]
  },
  {
   "cell_type": "markdown",
   "id": "6724c51b-7739-4e87-b3eb-1579589509af",
   "metadata": {},
   "source": [
    "## Valendo\n",
    "\n",
    "- O que estou fazendo no **JupyterLab**?\n",
    "- **Python** é uma calculadora\n",
    "    - Soma\n",
    "    - Subtração\n",
    "    - Multiplicação\n",
    "    - Divisão\n",
    "    - Potência\n",
    "    - Radiciação\n",
    "    - Módulo (Hein?)\n",
    "    - Deslocamento de bits (Hã?)"
   ]
  },
  {
   "cell_type": "code",
   "execution_count": null,
   "id": "f7ffbd54-ed97-4b08-a3ed-623409c7a367",
   "metadata": {},
   "outputs": [],
   "source": []
  },
  {
   "cell_type": "code",
   "execution_count": null,
   "id": "8b59d568-ea9c-4ee6-ac10-45cdbd07bd72",
   "metadata": {},
   "outputs": [],
   "source": []
  },
  {
   "cell_type": "code",
   "execution_count": null,
   "id": "13434f7d-0a4c-498b-981f-90e495ff77f1",
   "metadata": {},
   "outputs": [],
   "source": []
  },
  {
   "cell_type": "code",
   "execution_count": null,
   "id": "1a519c17-9243-4994-88eb-1a62cb126a53",
   "metadata": {},
   "outputs": [],
   "source": []
  },
  {
   "cell_type": "markdown",
   "id": "df896ff4-5dbc-4338-9bab-27be5396068b",
   "metadata": {},
   "source": [
    "## Variáveis e tipos de dados\n",
    "\n",
    "- Inteiros, Racionais (sem ser MCs) e Reais (sem ser a moeda do Brasil)\n",
    "- Operações com números\n",
    "- DEVER DE CASA: pesquisar sobre **números complexos** em Python"
   ]
  },
  {
   "cell_type": "code",
   "execution_count": null,
   "id": "8c03824a-6195-4bf7-8488-c8895bde863e",
   "metadata": {},
   "outputs": [],
   "source": []
  },
  {
   "cell_type": "code",
   "execution_count": null,
   "id": "cc161482-fbc7-4270-b33c-0ea96e260257",
   "metadata": {},
   "outputs": [],
   "source": []
  },
  {
   "cell_type": "code",
   "execution_count": null,
   "id": "d26e08d8-14eb-4b8a-8a4d-4bee895be878",
   "metadata": {},
   "outputs": [],
   "source": []
  },
  {
   "cell_type": "markdown",
   "id": "faaff775-081e-4a41-b04c-2739a04806f2",
   "metadata": {},
   "source": [
    "## Brincando com as palavras: **strings**, **f-strings**, **capitlize**, **lower**, **replace**"
   ]
  },
  {
   "cell_type": "code",
   "execution_count": null,
   "id": "97cffe88-a201-4ad1-b715-a54eb52911fe",
   "metadata": {},
   "outputs": [],
   "source": []
  },
  {
   "cell_type": "code",
   "execution_count": null,
   "id": "899239f3-b64e-44ed-8e58-eccbe308965f",
   "metadata": {},
   "outputs": [],
   "source": []
  },
  {
   "cell_type": "code",
   "execution_count": null,
   "id": "4efacb97-7983-403a-b2e9-6baab7c5c079",
   "metadata": {},
   "outputs": [],
   "source": []
  },
  {
   "cell_type": "code",
   "execution_count": null,
   "id": "47dd754f-bb8f-4510-af34-e7195d9e08dc",
   "metadata": {},
   "outputs": [],
   "source": []
  },
  {
   "cell_type": "markdown",
   "id": "52c0fcb5-9b1d-4bd1-acc0-2ef7be4d5160",
   "metadata": {},
   "source": [
    "## Fato ou fake: mexendo com variáveis booleanas"
   ]
  },
  {
   "cell_type": "code",
   "execution_count": null,
   "id": "53448d66-4df6-44a9-ab91-3303259afbf0",
   "metadata": {},
   "outputs": [],
   "source": []
  },
  {
   "cell_type": "code",
   "execution_count": null,
   "id": "78724f2e-b086-4dce-b3d4-5259b1ebd791",
   "metadata": {},
   "outputs": [],
   "source": []
  },
  {
   "cell_type": "code",
   "execution_count": null,
   "id": "b441ec4a-8264-4daa-9d3c-f183579063eb",
   "metadata": {},
   "outputs": [],
   "source": []
  },
  {
   "cell_type": "code",
   "execution_count": null,
   "id": "62f4d11c-456b-4353-b110-d260af2b860b",
   "metadata": {},
   "outputs": [],
   "source": []
  },
  {
   "cell_type": "code",
   "execution_count": null,
   "id": "95961a72-4b91-4496-86c4-197691a39d64",
   "metadata": {},
   "outputs": [],
   "source": []
  },
  {
   "cell_type": "markdown",
   "id": "f59c3702-d001-4bf2-b730-f1bbc01f1b4c",
   "metadata": {},
   "source": [
    "## Manuseiando variáveis\n",
    "\n",
    "- **input** e **print**\n",
    "- Conversão de tipos com **int(), float(), str()**"
   ]
  },
  {
   "cell_type": "code",
   "execution_count": null,
   "id": "197f3511-6fd0-424f-9bcd-62ea5cc717f0",
   "metadata": {},
   "outputs": [],
   "source": []
  },
  {
   "cell_type": "code",
   "execution_count": null,
   "id": "dd94e976-ed7b-400d-ad81-d90a3a1d9edd",
   "metadata": {},
   "outputs": [],
   "source": []
  },
  {
   "cell_type": "code",
   "execution_count": null,
   "id": "c13c5c8c-274a-4288-8dc5-965c95f64660",
   "metadata": {},
   "outputs": [],
   "source": []
  },
  {
   "cell_type": "code",
   "execution_count": null,
   "id": "1ad37229-807c-4295-8b03-e9c17d9c4d3c",
   "metadata": {},
   "outputs": [],
   "source": []
  },
  {
   "cell_type": "markdown",
   "id": "cf56a3ed-da6c-48e0-8a4d-def20565fa6d",
   "metadata": {},
   "source": [
    "## Exercício 1\n",
    "\n",
    "- Use **input** para pegar o nome de um time de futebol.\n",
    "- Escreva a frase \"O TIME_DE_FUTEBOL_ESCOLHIDO é o time do meu coração\"\n",
    "- Modifique o código feito para escrever a frase em letras maiúsculas"
   ]
  },
  {
   "cell_type": "code",
   "execution_count": null,
   "id": "20fbc04e-5389-464a-8bb5-08ab99383abf",
   "metadata": {},
   "outputs": [],
   "source": []
  },
  {
   "cell_type": "code",
   "execution_count": null,
   "id": "bf58b775-4743-4130-8c71-88153b784861",
   "metadata": {},
   "outputs": [],
   "source": []
  },
  {
   "cell_type": "code",
   "execution_count": null,
   "id": "f8039a0a-ed2d-4688-9a3d-6d5054cf44a6",
   "metadata": {},
   "outputs": [],
   "source": []
  },
  {
   "cell_type": "code",
   "execution_count": null,
   "id": "b3a9f1b5-731d-4a92-a571-2a92d0c469dc",
   "metadata": {},
   "outputs": [],
   "source": []
  },
  {
   "cell_type": "markdown",
   "id": "19ee542a-07a6-400f-bfe9-979b588742b7",
   "metadata": {},
   "source": [
    "## Exercício 2\n",
    "\n",
    "- Imagine que você e suas amigas estejam num rolê\n",
    "    - E que seja a hora de pagar a conta\n",
    "- Suponha duas situações\n",
    "    - Vão dividir a conta por igual\n",
    "    - Cada uma paga o que consumiu\n",
    "- Faça os cálculos e veja quanto ficou para cada uma"
   ]
  },
  {
   "cell_type": "code",
   "execution_count": null,
   "id": "d36d13c5-05e3-4b97-8366-0d13299e10e1",
   "metadata": {},
   "outputs": [],
   "source": []
  },
  {
   "cell_type": "code",
   "execution_count": null,
   "id": "0c13c026-07ee-466c-b70a-4948390d85e1",
   "metadata": {},
   "outputs": [],
   "source": []
  },
  {
   "cell_type": "code",
   "execution_count": null,
   "id": "89ade29b-c1c4-4e0d-8fb4-fa228af05906",
   "metadata": {},
   "outputs": [],
   "source": []
  },
  {
   "cell_type": "code",
   "execution_count": null,
   "id": "ef0bd559-3e99-4321-a6a3-7f1e3daa5213",
   "metadata": {},
   "outputs": [],
   "source": []
  }
 ],
 "metadata": {
  "kernelspec": {
   "display_name": "Python 3 (ipykernel)",
   "language": "python",
   "name": "python3"
  },
  "language_info": {
   "codemirror_mode": {
    "name": "ipython",
    "version": 3
   },
   "file_extension": ".py",
   "mimetype": "text/x-python",
   "name": "python",
   "nbconvert_exporter": "python",
   "pygments_lexer": "ipython3",
   "version": "3.9.0"
  }
 },
 "nbformat": 4,
 "nbformat_minor": 5
}
